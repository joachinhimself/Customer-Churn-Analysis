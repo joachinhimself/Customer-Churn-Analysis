{
 "cells": [
  {
   "cell_type": "markdown",
   "id": "36f7e4d7",
   "metadata": {},
   "source": [
    "## Importing Libraries ##"
   ]
  },
  {
   "cell_type": "code",
   "execution_count": 182,
   "id": "fef86a11",
   "metadata": {},
   "outputs": [],
   "source": [
    "import pandas as pd\n",
    "import numpy as np\n",
    "import seaborn as sns\n",
    "import matplotlib.pyplot as plt\n",
    "from ast import literal_eval\n",
    "from sklearn.metrics import accuracy_score, precision_score, recall_score, f1_score, confusion_matrix, ConfusionMatrixDisplay\n",
    "from sklearn.model_selection import train_test_split\n",
    "from sklearn.preprocessing import StandardScaler, MinMaxScaler\n",
    "from sklearn.linear_model import LogisticRegression\n",
    "from sklearn.tree import DecisionTreeClassifier\n",
    "from sklearn.ensemble import RandomForestClassifier\n",
    "from tqdm import tqdm\n",
    "import warnings\n",
    "warnings.filterwarnings(\"ignore\")"
   ]
  },
  {
   "cell_type": "markdown",
   "id": "d1c13ba5",
   "metadata": {},
   "source": [
    "## Checking Working Directories ##"
   ]
  },
  {
   "cell_type": "code",
   "execution_count": 183,
   "id": "2e768396",
   "metadata": {},
   "outputs": [
    {
     "name": "stdout",
     "output_type": "stream",
     "text": [
      "C:\\Users\\Obinna J. Duruiheme\\Customer Churn\\Notebook\n"
     ]
    }
   ],
   "source": [
    "import os\n",
    "print(os.getcwd())"
   ]
  },
  {
   "cell_type": "code",
   "execution_count": 184,
   "id": "91b44393",
   "metadata": {},
   "outputs": [
    {
     "name": "stdout",
     "output_type": "stream",
     "text": [
      "['.ipynb_checkpoints', 'Customer Churn.ipynb']\n"
     ]
    }
   ],
   "source": [
    "print(os.listdir())"
   ]
  },
  {
   "cell_type": "markdown",
   "id": "c9702187",
   "metadata": {},
   "source": [
    "## Loading Data ##"
   ]
  },
  {
   "cell_type": "code",
   "execution_count": 185,
   "id": "c196dcb9",
   "metadata": {},
   "outputs": [],
   "source": [
    "df = pd.read_excel(\"../Data/Dataset.xlsx\")"
   ]
  },
  {
   "cell_type": "markdown",
   "id": "0ee8898e",
   "metadata": {},
   "source": [
    "## Exploring Dataset ##"
   ]
  },
  {
   "cell_type": "code",
   "execution_count": 186,
   "id": "33353e1d",
   "metadata": {},
   "outputs": [
    {
     "data": {
      "text/html": [
       "<div>\n",
       "<style scoped>\n",
       "    .dataframe tbody tr th:only-of-type {\n",
       "        vertical-align: middle;\n",
       "    }\n",
       "\n",
       "    .dataframe tbody tr th {\n",
       "        vertical-align: top;\n",
       "    }\n",
       "\n",
       "    .dataframe thead th {\n",
       "        text-align: right;\n",
       "    }\n",
       "</style>\n",
       "<table border=\"1\" class=\"dataframe\">\n",
       "  <thead>\n",
       "    <tr style=\"text-align: right;\">\n",
       "      <th></th>\n",
       "      <th>CustomerID</th>\n",
       "      <th>Name</th>\n",
       "      <th>Age</th>\n",
       "      <th>Gender</th>\n",
       "      <th>Location</th>\n",
       "      <th>Email</th>\n",
       "      <th>Phone</th>\n",
       "      <th>Address</th>\n",
       "      <th>Segment</th>\n",
       "      <th>PurchaseHistory</th>\n",
       "      <th>...</th>\n",
       "      <th>ServiceInteractions</th>\n",
       "      <th>PaymentHistory</th>\n",
       "      <th>WebsiteUsage</th>\n",
       "      <th>ClickstreamData</th>\n",
       "      <th>EngagementMetrics</th>\n",
       "      <th>Feedback</th>\n",
       "      <th>MarketingCommunication</th>\n",
       "      <th>NPS</th>\n",
       "      <th>ChurnLabel</th>\n",
       "      <th>Timestamp</th>\n",
       "    </tr>\n",
       "  </thead>\n",
       "  <tbody>\n",
       "    <tr>\n",
       "      <th>0</th>\n",
       "      <td>1001</td>\n",
       "      <td>Mark Barrett</td>\n",
       "      <td>31</td>\n",
       "      <td>Male</td>\n",
       "      <td>Andrewfort</td>\n",
       "      <td>allison74@example.net</td>\n",
       "      <td>3192528777</td>\n",
       "      <td>61234 Shelley Heights Suite 467\\nCohentown, GU...</td>\n",
       "      <td>Segment B</td>\n",
       "      <td>[{'Product': 'Frozen Cocktail Mixes', 'Frequen...</td>\n",
       "      <td>...</td>\n",
       "      <td>[{'Type': 'Call', 'Date': '2019-09-26'}, {'Typ...</td>\n",
       "      <td>[{'Method': 'Credit Card', 'Late_Payments': 5}...</td>\n",
       "      <td>{'PageViews': 49, 'TimeSpent(minutes)': 15}</td>\n",
       "      <td>[{'Action': 'Add to Cart', 'Page': 'register',...</td>\n",
       "      <td>{'Logins': 19, 'Frequency': 'Weekly'}</td>\n",
       "      <td>{'Rating': 1, 'Comment': 'I move baby go small...</td>\n",
       "      <td>[{'Email_Sent': '2019-10-17', 'Email_Opened': ...</td>\n",
       "      <td>3</td>\n",
       "      <td>1</td>\n",
       "      <td>2020-01-27 01:36:49</td>\n",
       "    </tr>\n",
       "    <tr>\n",
       "      <th>1</th>\n",
       "      <td>1002</td>\n",
       "      <td>Jeremy Welch</td>\n",
       "      <td>66</td>\n",
       "      <td>Female</td>\n",
       "      <td>Millerhaven</td>\n",
       "      <td>fmiller@example.com</td>\n",
       "      <td>231-587-1818x8651</td>\n",
       "      <td>4959 Jennifer Junction\\nNew Angelaport, TN 87397</td>\n",
       "      <td>Segment C</td>\n",
       "      <td>[{'Product': 'Watercraft Polishes', 'Frequency...</td>\n",
       "      <td>...</td>\n",
       "      <td>[{'Type': 'Call', 'Date': '2020-01-05'}, {'Typ...</td>\n",
       "      <td>[{'Method': 'Credit Card', 'Late_Payments': 3}...</td>\n",
       "      <td>{'PageViews': 100, 'TimeSpent(minutes)': 9}</td>\n",
       "      <td>[{'Action': 'Add to Cart', 'Page': 'homepage',...</td>\n",
       "      <td>{'Logins': 9, 'Frequency': 'Weekly'}</td>\n",
       "      <td>{'Rating': 2, 'Comment': 'Wish what bag cut li...</td>\n",
       "      <td>[{'Email_Sent': '2021-08-02', 'Email_Opened': ...</td>\n",
       "      <td>6</td>\n",
       "      <td>0</td>\n",
       "      <td>2019-01-06 18:30:03</td>\n",
       "    </tr>\n",
       "    <tr>\n",
       "      <th>2</th>\n",
       "      <td>1003</td>\n",
       "      <td>Brandon Patel</td>\n",
       "      <td>36</td>\n",
       "      <td>Female</td>\n",
       "      <td>Lozanostad</td>\n",
       "      <td>jasonbrown@example.org</td>\n",
       "      <td>(270)633-9095</td>\n",
       "      <td>38701 Amanda Brook Apt. 076\\nKimshire, NJ 62516</td>\n",
       "      <td>Segment B</td>\n",
       "      <td>[{'Product': 'Vehicle Waxes, Polishes &amp; Protec...</td>\n",
       "      <td>...</td>\n",
       "      <td>[{'Type': 'Email', 'Date': '2019-10-09'}, {'Ty...</td>\n",
       "      <td>[{'Method': 'Credit Card', 'Late_Payments': 1}...</td>\n",
       "      <td>{'PageViews': 1, 'TimeSpent(minutes)': 97}</td>\n",
       "      <td>[{'Action': 'Search', 'Page': 'terms', 'Timest...</td>\n",
       "      <td>{'Logins': 19, 'Frequency': 'Monthly'}</td>\n",
       "      <td>{'Rating': 4, 'Comment': 'Some Democrat guess ...</td>\n",
       "      <td>[{'Email_Sent': '2021-08-29', 'Email_Opened': ...</td>\n",
       "      <td>3</td>\n",
       "      <td>0</td>\n",
       "      <td>2019-04-30 04:25:10</td>\n",
       "    </tr>\n",
       "  </tbody>\n",
       "</table>\n",
       "<p>3 rows × 21 columns</p>\n",
       "</div>"
      ],
      "text/plain": [
       "   CustomerID           Name  Age  Gender     Location  \\\n",
       "0        1001   Mark Barrett   31    Male   Andrewfort   \n",
       "1        1002   Jeremy Welch   66  Female  Millerhaven   \n",
       "2        1003  Brandon Patel   36  Female   Lozanostad   \n",
       "\n",
       "                    Email              Phone  \\\n",
       "0   allison74@example.net         3192528777   \n",
       "1     fmiller@example.com  231-587-1818x8651   \n",
       "2  jasonbrown@example.org      (270)633-9095   \n",
       "\n",
       "                                             Address    Segment  \\\n",
       "0  61234 Shelley Heights Suite 467\\nCohentown, GU...  Segment B   \n",
       "1   4959 Jennifer Junction\\nNew Angelaport, TN 87397  Segment C   \n",
       "2    38701 Amanda Brook Apt. 076\\nKimshire, NJ 62516  Segment B   \n",
       "\n",
       "                                     PurchaseHistory  ...  \\\n",
       "0  [{'Product': 'Frozen Cocktail Mixes', 'Frequen...  ...   \n",
       "1  [{'Product': 'Watercraft Polishes', 'Frequency...  ...   \n",
       "2  [{'Product': 'Vehicle Waxes, Polishes & Protec...  ...   \n",
       "\n",
       "                                 ServiceInteractions  \\\n",
       "0  [{'Type': 'Call', 'Date': '2019-09-26'}, {'Typ...   \n",
       "1  [{'Type': 'Call', 'Date': '2020-01-05'}, {'Typ...   \n",
       "2  [{'Type': 'Email', 'Date': '2019-10-09'}, {'Ty...   \n",
       "\n",
       "                                      PaymentHistory  \\\n",
       "0  [{'Method': 'Credit Card', 'Late_Payments': 5}...   \n",
       "1  [{'Method': 'Credit Card', 'Late_Payments': 3}...   \n",
       "2  [{'Method': 'Credit Card', 'Late_Payments': 1}...   \n",
       "\n",
       "                                  WebsiteUsage  \\\n",
       "0  {'PageViews': 49, 'TimeSpent(minutes)': 15}   \n",
       "1  {'PageViews': 100, 'TimeSpent(minutes)': 9}   \n",
       "2   {'PageViews': 1, 'TimeSpent(minutes)': 97}   \n",
       "\n",
       "                                     ClickstreamData  \\\n",
       "0  [{'Action': 'Add to Cart', 'Page': 'register',...   \n",
       "1  [{'Action': 'Add to Cart', 'Page': 'homepage',...   \n",
       "2  [{'Action': 'Search', 'Page': 'terms', 'Timest...   \n",
       "\n",
       "                        EngagementMetrics  \\\n",
       "0   {'Logins': 19, 'Frequency': 'Weekly'}   \n",
       "1    {'Logins': 9, 'Frequency': 'Weekly'}   \n",
       "2  {'Logins': 19, 'Frequency': 'Monthly'}   \n",
       "\n",
       "                                            Feedback  \\\n",
       "0  {'Rating': 1, 'Comment': 'I move baby go small...   \n",
       "1  {'Rating': 2, 'Comment': 'Wish what bag cut li...   \n",
       "2  {'Rating': 4, 'Comment': 'Some Democrat guess ...   \n",
       "\n",
       "                              MarketingCommunication NPS  ChurnLabel  \\\n",
       "0  [{'Email_Sent': '2019-10-17', 'Email_Opened': ...   3           1   \n",
       "1  [{'Email_Sent': '2021-08-02', 'Email_Opened': ...   6           0   \n",
       "2  [{'Email_Sent': '2021-08-29', 'Email_Opened': ...   3           0   \n",
       "\n",
       "             Timestamp  \n",
       "0  2020-01-27 01:36:49  \n",
       "1  2019-01-06 18:30:03  \n",
       "2  2019-04-30 04:25:10  \n",
       "\n",
       "[3 rows x 21 columns]"
      ]
     },
     "execution_count": 186,
     "metadata": {},
     "output_type": "execute_result"
    }
   ],
   "source": [
    "df.head(3)"
   ]
  },
  {
   "cell_type": "code",
   "execution_count": 187,
   "id": "20080802",
   "metadata": {},
   "outputs": [
    {
     "data": {
      "text/html": [
       "<div>\n",
       "<style scoped>\n",
       "    .dataframe tbody tr th:only-of-type {\n",
       "        vertical-align: middle;\n",
       "    }\n",
       "\n",
       "    .dataframe tbody tr th {\n",
       "        vertical-align: top;\n",
       "    }\n",
       "\n",
       "    .dataframe thead th {\n",
       "        text-align: right;\n",
       "    }\n",
       "</style>\n",
       "<table border=\"1\" class=\"dataframe\">\n",
       "  <thead>\n",
       "    <tr style=\"text-align: right;\">\n",
       "      <th></th>\n",
       "      <th>CustomerID</th>\n",
       "      <th>Name</th>\n",
       "      <th>Age</th>\n",
       "      <th>Gender</th>\n",
       "      <th>Location</th>\n",
       "      <th>Email</th>\n",
       "      <th>Phone</th>\n",
       "      <th>Address</th>\n",
       "      <th>Segment</th>\n",
       "      <th>PurchaseHistory</th>\n",
       "      <th>...</th>\n",
       "      <th>ServiceInteractions</th>\n",
       "      <th>PaymentHistory</th>\n",
       "      <th>WebsiteUsage</th>\n",
       "      <th>ClickstreamData</th>\n",
       "      <th>EngagementMetrics</th>\n",
       "      <th>Feedback</th>\n",
       "      <th>MarketingCommunication</th>\n",
       "      <th>NPS</th>\n",
       "      <th>ChurnLabel</th>\n",
       "      <th>Timestamp</th>\n",
       "    </tr>\n",
       "  </thead>\n",
       "  <tbody>\n",
       "    <tr>\n",
       "      <th>12480</th>\n",
       "      <td>13481</td>\n",
       "      <td>Lisa Rodgers</td>\n",
       "      <td>38</td>\n",
       "      <td>Male</td>\n",
       "      <td>East Erin</td>\n",
       "      <td>william37@example.com</td>\n",
       "      <td>951-489-9554</td>\n",
       "      <td>56050 Steven Summit Suite 383\\nJohnmouth, NM 2...</td>\n",
       "      <td>Segment C</td>\n",
       "      <td>[{'Product': 'Furisode Kimonos', 'Frequency': ...</td>\n",
       "      <td>...</td>\n",
       "      <td>[{'Type': 'Email', 'Date': '2020-05-22'}, {'Ty...</td>\n",
       "      <td>[{'Method': 'Credit Card', 'Late_Payments': 26...</td>\n",
       "      <td>{'PageViews': 96, 'TimeSpent(minutes)': 1}</td>\n",
       "      <td>[{'Action': 'Search', 'Page': 'author', 'Times...</td>\n",
       "      <td>{'Logins': 9, 'Frequency': 'Monthly'}</td>\n",
       "      <td>{'Rating': 5, 'Comment': 'Offer particularly s...</td>\n",
       "      <td>[{'Email_Sent': '2020-05-18', 'Email_Opened': ...</td>\n",
       "      <td>1</td>\n",
       "      <td>1</td>\n",
       "      <td>2020-10-13 15:09:13</td>\n",
       "    </tr>\n",
       "    <tr>\n",
       "      <th>12481</th>\n",
       "      <td>13482</td>\n",
       "      <td>Kristin Carey</td>\n",
       "      <td>26</td>\n",
       "      <td>Female</td>\n",
       "      <td>New Leah</td>\n",
       "      <td>josephcarter@example.net</td>\n",
       "      <td>001-335-464-3236x722</td>\n",
       "      <td>72356 Teresa Rapid\\nPorterborough, SC 40076</td>\n",
       "      <td>Segment A</td>\n",
       "      <td>[{'Product': 'Sequins &amp; Glitter', 'Frequency':...</td>\n",
       "      <td>...</td>\n",
       "      <td>[{'Type': 'Call', 'Date': '2020-09-11'}, {'Typ...</td>\n",
       "      <td>[{'Method': 'Credit Card', 'Late_Payments': 30...</td>\n",
       "      <td>{'PageViews': 63, 'TimeSpent(minutes)': 2}</td>\n",
       "      <td>[{'Action': 'Click', 'Page': 'post', 'Timestam...</td>\n",
       "      <td>{'Logins': 2, 'Frequency': 'Monthly'}</td>\n",
       "      <td>{'Rating': 5, 'Comment': 'Rest something conce...</td>\n",
       "      <td>[{'Email_Sent': '2021-09-05', 'Email_Opened': ...</td>\n",
       "      <td>0</td>\n",
       "      <td>0</td>\n",
       "      <td>2020-06-24 23:49:01</td>\n",
       "    </tr>\n",
       "    <tr>\n",
       "      <th>12482</th>\n",
       "      <td>13483</td>\n",
       "      <td>Melissa Carter</td>\n",
       "      <td>29</td>\n",
       "      <td>Male</td>\n",
       "      <td>West Amanda</td>\n",
       "      <td>regina88@example.net</td>\n",
       "      <td>816-238-9247</td>\n",
       "      <td>USCGC Lopez\\nFPO AE 85542</td>\n",
       "      <td>Segment C</td>\n",
       "      <td>[{'Product': 'Pool Brushes &amp; Brooms', 'Frequen...</td>\n",
       "      <td>...</td>\n",
       "      <td>[{'Type': 'Call', 'Date': '2019-02-17'}, {'Typ...</td>\n",
       "      <td>[{'Method': 'Credit Card', 'Late_Payments': 11...</td>\n",
       "      <td>{'PageViews': 93, 'TimeSpent(minutes)': 6}</td>\n",
       "      <td>[{'Action': 'Add to Cart', 'Page': 'category',...</td>\n",
       "      <td>{'Logins': 6, 'Frequency': 'Weekly'}</td>\n",
       "      <td>{'Rating': 3, 'Comment': 'Indeed foot trouble ...</td>\n",
       "      <td>[{'Email_Sent': '2021-02-08', 'Email_Opened': ...</td>\n",
       "      <td>2</td>\n",
       "      <td>1</td>\n",
       "      <td>2022-07-14 07:27:52</td>\n",
       "    </tr>\n",
       "  </tbody>\n",
       "</table>\n",
       "<p>3 rows × 21 columns</p>\n",
       "</div>"
      ],
      "text/plain": [
       "       CustomerID            Name  Age  Gender     Location  \\\n",
       "12480       13481    Lisa Rodgers   38    Male    East Erin   \n",
       "12481       13482   Kristin Carey   26  Female     New Leah   \n",
       "12482       13483  Melissa Carter   29    Male  West Amanda   \n",
       "\n",
       "                          Email                 Phone  \\\n",
       "12480     william37@example.com          951-489-9554   \n",
       "12481  josephcarter@example.net  001-335-464-3236x722   \n",
       "12482      regina88@example.net          816-238-9247   \n",
       "\n",
       "                                                 Address    Segment  \\\n",
       "12480  56050 Steven Summit Suite 383\\nJohnmouth, NM 2...  Segment C   \n",
       "12481        72356 Teresa Rapid\\nPorterborough, SC 40076  Segment A   \n",
       "12482                          USCGC Lopez\\nFPO AE 85542  Segment C   \n",
       "\n",
       "                                         PurchaseHistory  ...  \\\n",
       "12480  [{'Product': 'Furisode Kimonos', 'Frequency': ...  ...   \n",
       "12481  [{'Product': 'Sequins & Glitter', 'Frequency':...  ...   \n",
       "12482  [{'Product': 'Pool Brushes & Brooms', 'Frequen...  ...   \n",
       "\n",
       "                                     ServiceInteractions  \\\n",
       "12480  [{'Type': 'Email', 'Date': '2020-05-22'}, {'Ty...   \n",
       "12481  [{'Type': 'Call', 'Date': '2020-09-11'}, {'Typ...   \n",
       "12482  [{'Type': 'Call', 'Date': '2019-02-17'}, {'Typ...   \n",
       "\n",
       "                                          PaymentHistory  \\\n",
       "12480  [{'Method': 'Credit Card', 'Late_Payments': 26...   \n",
       "12481  [{'Method': 'Credit Card', 'Late_Payments': 30...   \n",
       "12482  [{'Method': 'Credit Card', 'Late_Payments': 11...   \n",
       "\n",
       "                                     WebsiteUsage  \\\n",
       "12480  {'PageViews': 96, 'TimeSpent(minutes)': 1}   \n",
       "12481  {'PageViews': 63, 'TimeSpent(minutes)': 2}   \n",
       "12482  {'PageViews': 93, 'TimeSpent(minutes)': 6}   \n",
       "\n",
       "                                         ClickstreamData  \\\n",
       "12480  [{'Action': 'Search', 'Page': 'author', 'Times...   \n",
       "12481  [{'Action': 'Click', 'Page': 'post', 'Timestam...   \n",
       "12482  [{'Action': 'Add to Cart', 'Page': 'category',...   \n",
       "\n",
       "                           EngagementMetrics  \\\n",
       "12480  {'Logins': 9, 'Frequency': 'Monthly'}   \n",
       "12481  {'Logins': 2, 'Frequency': 'Monthly'}   \n",
       "12482   {'Logins': 6, 'Frequency': 'Weekly'}   \n",
       "\n",
       "                                                Feedback  \\\n",
       "12480  {'Rating': 5, 'Comment': 'Offer particularly s...   \n",
       "12481  {'Rating': 5, 'Comment': 'Rest something conce...   \n",
       "12482  {'Rating': 3, 'Comment': 'Indeed foot trouble ...   \n",
       "\n",
       "                                  MarketingCommunication NPS  ChurnLabel  \\\n",
       "12480  [{'Email_Sent': '2020-05-18', 'Email_Opened': ...   1           1   \n",
       "12481  [{'Email_Sent': '2021-09-05', 'Email_Opened': ...   0           0   \n",
       "12482  [{'Email_Sent': '2021-02-08', 'Email_Opened': ...   2           1   \n",
       "\n",
       "                 Timestamp  \n",
       "12480  2020-10-13 15:09:13  \n",
       "12481  2020-06-24 23:49:01  \n",
       "12482  2022-07-14 07:27:52  \n",
       "\n",
       "[3 rows x 21 columns]"
      ]
     },
     "execution_count": 187,
     "metadata": {},
     "output_type": "execute_result"
    }
   ],
   "source": [
    "df.tail(3)"
   ]
  },
  {
   "cell_type": "code",
   "execution_count": 188,
   "id": "7e161196",
   "metadata": {},
   "outputs": [
    {
     "data": {
      "text/plain": [
       "(12483, 21)"
      ]
     },
     "execution_count": 188,
     "metadata": {},
     "output_type": "execute_result"
    }
   ],
   "source": [
    "df.shape"
   ]
  },
  {
   "cell_type": "code",
   "execution_count": 189,
   "id": "b2ebc6d3",
   "metadata": {},
   "outputs": [
    {
     "name": "stdout",
     "output_type": "stream",
     "text": [
      "<class 'pandas.core.frame.DataFrame'>\n",
      "RangeIndex: 12483 entries, 0 to 12482\n",
      "Data columns (total 21 columns):\n",
      " #   Column                  Non-Null Count  Dtype \n",
      "---  ------                  --------------  ----- \n",
      " 0   CustomerID              12483 non-null  int64 \n",
      " 1   Name                    12483 non-null  object\n",
      " 2   Age                     12483 non-null  int64 \n",
      " 3   Gender                  12483 non-null  object\n",
      " 4   Location                12483 non-null  object\n",
      " 5   Email                   12483 non-null  object\n",
      " 6   Phone                   12483 non-null  object\n",
      " 7   Address                 12483 non-null  object\n",
      " 8   Segment                 12483 non-null  object\n",
      " 9   PurchaseHistory         12483 non-null  object\n",
      " 10  SubscriptionDetails     12483 non-null  object\n",
      " 11  ServiceInteractions     12483 non-null  object\n",
      " 12  PaymentHistory          12483 non-null  object\n",
      " 13  WebsiteUsage            12483 non-null  object\n",
      " 14  ClickstreamData         12483 non-null  object\n",
      " 15  EngagementMetrics       12483 non-null  object\n",
      " 16  Feedback                12483 non-null  object\n",
      " 17  MarketingCommunication  12483 non-null  object\n",
      " 18  NPS                     12483 non-null  int64 \n",
      " 19  ChurnLabel              12483 non-null  int64 \n",
      " 20  Timestamp               12483 non-null  object\n",
      "dtypes: int64(4), object(17)\n",
      "memory usage: 2.0+ MB\n"
     ]
    }
   ],
   "source": [
    "df.info()"
   ]
  },
  {
   "cell_type": "code",
   "execution_count": 190,
   "id": "05e6b9aa",
   "metadata": {},
   "outputs": [
    {
     "data": {
      "text/plain": [
       "CustomerID                12483\n",
       "Name                      11617\n",
       "Age                          53\n",
       "Gender                        2\n",
       "Location                   9255\n",
       "Email                     12138\n",
       "Phone                     12483\n",
       "Address                   12483\n",
       "Segment                       3\n",
       "PurchaseHistory           12483\n",
       "SubscriptionDetails       12472\n",
       "ServiceInteractions       12467\n",
       "PaymentHistory             6173\n",
       "WebsiteUsage               6248\n",
       "ClickstreamData           12483\n",
       "EngagementMetrics            90\n",
       "Feedback                  12483\n",
       "MarketingCommunication    12479\n",
       "NPS                          10\n",
       "ChurnLabel                    2\n",
       "Timestamp                 12482\n",
       "dtype: int64"
      ]
     },
     "execution_count": 190,
     "metadata": {},
     "output_type": "execute_result"
    }
   ],
   "source": [
    "df.nunique()"
   ]
  },
  {
   "cell_type": "code",
   "execution_count": 191,
   "id": "54612726",
   "metadata": {},
   "outputs": [
    {
     "data": {
      "text/html": [
       "<div>\n",
       "<style scoped>\n",
       "    .dataframe tbody tr th:only-of-type {\n",
       "        vertical-align: middle;\n",
       "    }\n",
       "\n",
       "    .dataframe tbody tr th {\n",
       "        vertical-align: top;\n",
       "    }\n",
       "\n",
       "    .dataframe thead th {\n",
       "        text-align: right;\n",
       "    }\n",
       "</style>\n",
       "<table border=\"1\" class=\"dataframe\">\n",
       "  <thead>\n",
       "    <tr style=\"text-align: right;\">\n",
       "      <th></th>\n",
       "      <th>CustomerID</th>\n",
       "      <th>Name</th>\n",
       "      <th>Age</th>\n",
       "      <th>Gender</th>\n",
       "      <th>Location</th>\n",
       "      <th>Email</th>\n",
       "      <th>Phone</th>\n",
       "      <th>Address</th>\n",
       "      <th>Segment</th>\n",
       "      <th>PurchaseHistory</th>\n",
       "      <th>...</th>\n",
       "      <th>ServiceInteractions</th>\n",
       "      <th>PaymentHistory</th>\n",
       "      <th>WebsiteUsage</th>\n",
       "      <th>ClickstreamData</th>\n",
       "      <th>EngagementMetrics</th>\n",
       "      <th>Feedback</th>\n",
       "      <th>MarketingCommunication</th>\n",
       "      <th>NPS</th>\n",
       "      <th>ChurnLabel</th>\n",
       "      <th>Timestamp</th>\n",
       "    </tr>\n",
       "  </thead>\n",
       "  <tbody>\n",
       "    <tr>\n",
       "      <th>count</th>\n",
       "      <td>12483.00000</td>\n",
       "      <td>12483</td>\n",
       "      <td>12483.000000</td>\n",
       "      <td>12483</td>\n",
       "      <td>12483</td>\n",
       "      <td>12483</td>\n",
       "      <td>12483</td>\n",
       "      <td>12483</td>\n",
       "      <td>12483</td>\n",
       "      <td>12483</td>\n",
       "      <td>...</td>\n",
       "      <td>12483</td>\n",
       "      <td>12483</td>\n",
       "      <td>12483</td>\n",
       "      <td>12483</td>\n",
       "      <td>12483</td>\n",
       "      <td>12483</td>\n",
       "      <td>12483</td>\n",
       "      <td>12483.000000</td>\n",
       "      <td>12483.000000</td>\n",
       "      <td>12483</td>\n",
       "    </tr>\n",
       "    <tr>\n",
       "      <th>unique</th>\n",
       "      <td>NaN</td>\n",
       "      <td>11617</td>\n",
       "      <td>NaN</td>\n",
       "      <td>2</td>\n",
       "      <td>9255</td>\n",
       "      <td>12138</td>\n",
       "      <td>12483</td>\n",
       "      <td>12483</td>\n",
       "      <td>3</td>\n",
       "      <td>12483</td>\n",
       "      <td>...</td>\n",
       "      <td>12467</td>\n",
       "      <td>6173</td>\n",
       "      <td>6248</td>\n",
       "      <td>12483</td>\n",
       "      <td>90</td>\n",
       "      <td>12483</td>\n",
       "      <td>12479</td>\n",
       "      <td>NaN</td>\n",
       "      <td>NaN</td>\n",
       "      <td>12482</td>\n",
       "    </tr>\n",
       "    <tr>\n",
       "      <th>top</th>\n",
       "      <td>NaN</td>\n",
       "      <td>Michael Johnson</td>\n",
       "      <td>NaN</td>\n",
       "      <td>Male</td>\n",
       "      <td>Lake Michael</td>\n",
       "      <td>wsmith@example.net</td>\n",
       "      <td>3192528777</td>\n",
       "      <td>61234 Shelley Heights Suite 467\\nCohentown, GU...</td>\n",
       "      <td>Segment C</td>\n",
       "      <td>[{'Product': 'Frozen Cocktail Mixes', 'Frequen...</td>\n",
       "      <td>...</td>\n",
       "      <td>[{'Type': 'Call', 'Date': '2020-03-26'}]</td>\n",
       "      <td>[{'Method': 'Credit Card', 'Late_Payments': 0}...</td>\n",
       "      <td>{'PageViews': 85, 'TimeSpent(minutes)': 3}</td>\n",
       "      <td>[{'Action': 'Add to Cart', 'Page': 'register',...</td>\n",
       "      <td>{'Logins': 1, 'Frequency': 'Weekly'}</td>\n",
       "      <td>{'Rating': 1, 'Comment': 'I move baby go small...</td>\n",
       "      <td>[{'Email_Sent': '2022-12-26', 'Email_Opened': ...</td>\n",
       "      <td>NaN</td>\n",
       "      <td>NaN</td>\n",
       "      <td>2020-10-21 06:44:42</td>\n",
       "    </tr>\n",
       "    <tr>\n",
       "      <th>freq</th>\n",
       "      <td>NaN</td>\n",
       "      <td>6</td>\n",
       "      <td>NaN</td>\n",
       "      <td>6269</td>\n",
       "      <td>17</td>\n",
       "      <td>5</td>\n",
       "      <td>1</td>\n",
       "      <td>1</td>\n",
       "      <td>4199</td>\n",
       "      <td>1</td>\n",
       "      <td>...</td>\n",
       "      <td>2</td>\n",
       "      <td>42</td>\n",
       "      <td>9</td>\n",
       "      <td>1</td>\n",
       "      <td>167</td>\n",
       "      <td>1</td>\n",
       "      <td>2</td>\n",
       "      <td>NaN</td>\n",
       "      <td>NaN</td>\n",
       "      <td>2</td>\n",
       "    </tr>\n",
       "    <tr>\n",
       "      <th>mean</th>\n",
       "      <td>7242.00000</td>\n",
       "      <td>NaN</td>\n",
       "      <td>43.930065</td>\n",
       "      <td>NaN</td>\n",
       "      <td>NaN</td>\n",
       "      <td>NaN</td>\n",
       "      <td>NaN</td>\n",
       "      <td>NaN</td>\n",
       "      <td>NaN</td>\n",
       "      <td>NaN</td>\n",
       "      <td>...</td>\n",
       "      <td>NaN</td>\n",
       "      <td>NaN</td>\n",
       "      <td>NaN</td>\n",
       "      <td>NaN</td>\n",
       "      <td>NaN</td>\n",
       "      <td>NaN</td>\n",
       "      <td>NaN</td>\n",
       "      <td>2.973884</td>\n",
       "      <td>0.505808</td>\n",
       "      <td>NaN</td>\n",
       "    </tr>\n",
       "    <tr>\n",
       "      <th>std</th>\n",
       "      <td>3603.67604</td>\n",
       "      <td>NaN</td>\n",
       "      <td>15.341521</td>\n",
       "      <td>NaN</td>\n",
       "      <td>NaN</td>\n",
       "      <td>NaN</td>\n",
       "      <td>NaN</td>\n",
       "      <td>NaN</td>\n",
       "      <td>NaN</td>\n",
       "      <td>NaN</td>\n",
       "      <td>...</td>\n",
       "      <td>NaN</td>\n",
       "      <td>NaN</td>\n",
       "      <td>NaN</td>\n",
       "      <td>NaN</td>\n",
       "      <td>NaN</td>\n",
       "      <td>NaN</td>\n",
       "      <td>NaN</td>\n",
       "      <td>2.644623</td>\n",
       "      <td>0.499986</td>\n",
       "      <td>NaN</td>\n",
       "    </tr>\n",
       "    <tr>\n",
       "      <th>min</th>\n",
       "      <td>1001.00000</td>\n",
       "      <td>NaN</td>\n",
       "      <td>18.000000</td>\n",
       "      <td>NaN</td>\n",
       "      <td>NaN</td>\n",
       "      <td>NaN</td>\n",
       "      <td>NaN</td>\n",
       "      <td>NaN</td>\n",
       "      <td>NaN</td>\n",
       "      <td>NaN</td>\n",
       "      <td>...</td>\n",
       "      <td>NaN</td>\n",
       "      <td>NaN</td>\n",
       "      <td>NaN</td>\n",
       "      <td>NaN</td>\n",
       "      <td>NaN</td>\n",
       "      <td>NaN</td>\n",
       "      <td>NaN</td>\n",
       "      <td>0.000000</td>\n",
       "      <td>0.000000</td>\n",
       "      <td>NaN</td>\n",
       "    </tr>\n",
       "    <tr>\n",
       "      <th>25%</th>\n",
       "      <td>4121.50000</td>\n",
       "      <td>NaN</td>\n",
       "      <td>31.000000</td>\n",
       "      <td>NaN</td>\n",
       "      <td>NaN</td>\n",
       "      <td>NaN</td>\n",
       "      <td>NaN</td>\n",
       "      <td>NaN</td>\n",
       "      <td>NaN</td>\n",
       "      <td>NaN</td>\n",
       "      <td>...</td>\n",
       "      <td>NaN</td>\n",
       "      <td>NaN</td>\n",
       "      <td>NaN</td>\n",
       "      <td>NaN</td>\n",
       "      <td>NaN</td>\n",
       "      <td>NaN</td>\n",
       "      <td>NaN</td>\n",
       "      <td>1.000000</td>\n",
       "      <td>0.000000</td>\n",
       "      <td>NaN</td>\n",
       "    </tr>\n",
       "    <tr>\n",
       "      <th>50%</th>\n",
       "      <td>7242.00000</td>\n",
       "      <td>NaN</td>\n",
       "      <td>44.000000</td>\n",
       "      <td>NaN</td>\n",
       "      <td>NaN</td>\n",
       "      <td>NaN</td>\n",
       "      <td>NaN</td>\n",
       "      <td>NaN</td>\n",
       "      <td>NaN</td>\n",
       "      <td>NaN</td>\n",
       "      <td>...</td>\n",
       "      <td>NaN</td>\n",
       "      <td>NaN</td>\n",
       "      <td>NaN</td>\n",
       "      <td>NaN</td>\n",
       "      <td>NaN</td>\n",
       "      <td>NaN</td>\n",
       "      <td>NaN</td>\n",
       "      <td>2.000000</td>\n",
       "      <td>1.000000</td>\n",
       "      <td>NaN</td>\n",
       "    </tr>\n",
       "    <tr>\n",
       "      <th>75%</th>\n",
       "      <td>10362.50000</td>\n",
       "      <td>NaN</td>\n",
       "      <td>57.000000</td>\n",
       "      <td>NaN</td>\n",
       "      <td>NaN</td>\n",
       "      <td>NaN</td>\n",
       "      <td>NaN</td>\n",
       "      <td>NaN</td>\n",
       "      <td>NaN</td>\n",
       "      <td>NaN</td>\n",
       "      <td>...</td>\n",
       "      <td>NaN</td>\n",
       "      <td>NaN</td>\n",
       "      <td>NaN</td>\n",
       "      <td>NaN</td>\n",
       "      <td>NaN</td>\n",
       "      <td>NaN</td>\n",
       "      <td>NaN</td>\n",
       "      <td>4.000000</td>\n",
       "      <td>1.000000</td>\n",
       "      <td>NaN</td>\n",
       "    </tr>\n",
       "    <tr>\n",
       "      <th>max</th>\n",
       "      <td>13483.00000</td>\n",
       "      <td>NaN</td>\n",
       "      <td>70.000000</td>\n",
       "      <td>NaN</td>\n",
       "      <td>NaN</td>\n",
       "      <td>NaN</td>\n",
       "      <td>NaN</td>\n",
       "      <td>NaN</td>\n",
       "      <td>NaN</td>\n",
       "      <td>NaN</td>\n",
       "      <td>...</td>\n",
       "      <td>NaN</td>\n",
       "      <td>NaN</td>\n",
       "      <td>NaN</td>\n",
       "      <td>NaN</td>\n",
       "      <td>NaN</td>\n",
       "      <td>NaN</td>\n",
       "      <td>NaN</td>\n",
       "      <td>9.000000</td>\n",
       "      <td>1.000000</td>\n",
       "      <td>NaN</td>\n",
       "    </tr>\n",
       "  </tbody>\n",
       "</table>\n",
       "<p>11 rows × 21 columns</p>\n",
       "</div>"
      ],
      "text/plain": [
       "         CustomerID             Name           Age Gender      Location  \\\n",
       "count   12483.00000            12483  12483.000000  12483         12483   \n",
       "unique          NaN            11617           NaN      2          9255   \n",
       "top             NaN  Michael Johnson           NaN   Male  Lake Michael   \n",
       "freq            NaN                6           NaN   6269            17   \n",
       "mean     7242.00000              NaN     43.930065    NaN           NaN   \n",
       "std      3603.67604              NaN     15.341521    NaN           NaN   \n",
       "min      1001.00000              NaN     18.000000    NaN           NaN   \n",
       "25%      4121.50000              NaN     31.000000    NaN           NaN   \n",
       "50%      7242.00000              NaN     44.000000    NaN           NaN   \n",
       "75%     10362.50000              NaN     57.000000    NaN           NaN   \n",
       "max     13483.00000              NaN     70.000000    NaN           NaN   \n",
       "\n",
       "                     Email       Phone  \\\n",
       "count                12483       12483   \n",
       "unique               12138       12483   \n",
       "top     wsmith@example.net  3192528777   \n",
       "freq                     5           1   \n",
       "mean                   NaN         NaN   \n",
       "std                    NaN         NaN   \n",
       "min                    NaN         NaN   \n",
       "25%                    NaN         NaN   \n",
       "50%                    NaN         NaN   \n",
       "75%                    NaN         NaN   \n",
       "max                    NaN         NaN   \n",
       "\n",
       "                                                  Address    Segment  \\\n",
       "count                                               12483      12483   \n",
       "unique                                              12483          3   \n",
       "top     61234 Shelley Heights Suite 467\\nCohentown, GU...  Segment C   \n",
       "freq                                                    1       4199   \n",
       "mean                                                  NaN        NaN   \n",
       "std                                                   NaN        NaN   \n",
       "min                                                   NaN        NaN   \n",
       "25%                                                   NaN        NaN   \n",
       "50%                                                   NaN        NaN   \n",
       "75%                                                   NaN        NaN   \n",
       "max                                                   NaN        NaN   \n",
       "\n",
       "                                          PurchaseHistory  ...  \\\n",
       "count                                               12483  ...   \n",
       "unique                                              12483  ...   \n",
       "top     [{'Product': 'Frozen Cocktail Mixes', 'Frequen...  ...   \n",
       "freq                                                    1  ...   \n",
       "mean                                                  NaN  ...   \n",
       "std                                                   NaN  ...   \n",
       "min                                                   NaN  ...   \n",
       "25%                                                   NaN  ...   \n",
       "50%                                                   NaN  ...   \n",
       "75%                                                   NaN  ...   \n",
       "max                                                   NaN  ...   \n",
       "\n",
       "                             ServiceInteractions  \\\n",
       "count                                      12483   \n",
       "unique                                     12467   \n",
       "top     [{'Type': 'Call', 'Date': '2020-03-26'}]   \n",
       "freq                                           2   \n",
       "mean                                         NaN   \n",
       "std                                          NaN   \n",
       "min                                          NaN   \n",
       "25%                                          NaN   \n",
       "50%                                          NaN   \n",
       "75%                                          NaN   \n",
       "max                                          NaN   \n",
       "\n",
       "                                           PaymentHistory  \\\n",
       "count                                               12483   \n",
       "unique                                               6173   \n",
       "top     [{'Method': 'Credit Card', 'Late_Payments': 0}...   \n",
       "freq                                                   42   \n",
       "mean                                                  NaN   \n",
       "std                                                   NaN   \n",
       "min                                                   NaN   \n",
       "25%                                                   NaN   \n",
       "50%                                                   NaN   \n",
       "75%                                                   NaN   \n",
       "max                                                   NaN   \n",
       "\n",
       "                                      WebsiteUsage  \\\n",
       "count                                        12483   \n",
       "unique                                        6248   \n",
       "top     {'PageViews': 85, 'TimeSpent(minutes)': 3}   \n",
       "freq                                             9   \n",
       "mean                                           NaN   \n",
       "std                                            NaN   \n",
       "min                                            NaN   \n",
       "25%                                            NaN   \n",
       "50%                                            NaN   \n",
       "75%                                            NaN   \n",
       "max                                            NaN   \n",
       "\n",
       "                                          ClickstreamData  \\\n",
       "count                                               12483   \n",
       "unique                                              12483   \n",
       "top     [{'Action': 'Add to Cart', 'Page': 'register',...   \n",
       "freq                                                    1   \n",
       "mean                                                  NaN   \n",
       "std                                                   NaN   \n",
       "min                                                   NaN   \n",
       "25%                                                   NaN   \n",
       "50%                                                   NaN   \n",
       "75%                                                   NaN   \n",
       "max                                                   NaN   \n",
       "\n",
       "                           EngagementMetrics  \\\n",
       "count                                  12483   \n",
       "unique                                    90   \n",
       "top     {'Logins': 1, 'Frequency': 'Weekly'}   \n",
       "freq                                     167   \n",
       "mean                                     NaN   \n",
       "std                                      NaN   \n",
       "min                                      NaN   \n",
       "25%                                      NaN   \n",
       "50%                                      NaN   \n",
       "75%                                      NaN   \n",
       "max                                      NaN   \n",
       "\n",
       "                                                 Feedback  \\\n",
       "count                                               12483   \n",
       "unique                                              12483   \n",
       "top     {'Rating': 1, 'Comment': 'I move baby go small...   \n",
       "freq                                                    1   \n",
       "mean                                                  NaN   \n",
       "std                                                   NaN   \n",
       "min                                                   NaN   \n",
       "25%                                                   NaN   \n",
       "50%                                                   NaN   \n",
       "75%                                                   NaN   \n",
       "max                                                   NaN   \n",
       "\n",
       "                                   MarketingCommunication           NPS  \\\n",
       "count                                               12483  12483.000000   \n",
       "unique                                              12479           NaN   \n",
       "top     [{'Email_Sent': '2022-12-26', 'Email_Opened': ...           NaN   \n",
       "freq                                                    2           NaN   \n",
       "mean                                                  NaN      2.973884   \n",
       "std                                                   NaN      2.644623   \n",
       "min                                                   NaN      0.000000   \n",
       "25%                                                   NaN      1.000000   \n",
       "50%                                                   NaN      2.000000   \n",
       "75%                                                   NaN      4.000000   \n",
       "max                                                   NaN      9.000000   \n",
       "\n",
       "          ChurnLabel            Timestamp  \n",
       "count   12483.000000                12483  \n",
       "unique           NaN                12482  \n",
       "top              NaN  2020-10-21 06:44:42  \n",
       "freq             NaN                    2  \n",
       "mean        0.505808                  NaN  \n",
       "std         0.499986                  NaN  \n",
       "min         0.000000                  NaN  \n",
       "25%         0.000000                  NaN  \n",
       "50%         1.000000                  NaN  \n",
       "75%         1.000000                  NaN  \n",
       "max         1.000000                  NaN  \n",
       "\n",
       "[11 rows x 21 columns]"
      ]
     },
     "execution_count": 191,
     "metadata": {},
     "output_type": "execute_result"
    }
   ],
   "source": [
    "df.describe(include = 'all')"
   ]
  },
  {
   "cell_type": "code",
   "execution_count": 192,
   "id": "88c09313",
   "metadata": {},
   "outputs": [
    {
     "data": {
      "text/html": [
       "<div>\n",
       "<style scoped>\n",
       "    .dataframe tbody tr th:only-of-type {\n",
       "        vertical-align: middle;\n",
       "    }\n",
       "\n",
       "    .dataframe tbody tr th {\n",
       "        vertical-align: top;\n",
       "    }\n",
       "\n",
       "    .dataframe thead th {\n",
       "        text-align: right;\n",
       "    }\n",
       "</style>\n",
       "<table border=\"1\" class=\"dataframe\">\n",
       "  <thead>\n",
       "    <tr style=\"text-align: right;\">\n",
       "      <th></th>\n",
       "      <th>CustomerID</th>\n",
       "      <th>Age</th>\n",
       "      <th>NPS</th>\n",
       "      <th>ChurnLabel</th>\n",
       "    </tr>\n",
       "  </thead>\n",
       "  <tbody>\n",
       "    <tr>\n",
       "      <th>count</th>\n",
       "      <td>12483.00000</td>\n",
       "      <td>12483.000000</td>\n",
       "      <td>12483.000000</td>\n",
       "      <td>12483.000000</td>\n",
       "    </tr>\n",
       "    <tr>\n",
       "      <th>mean</th>\n",
       "      <td>7242.00000</td>\n",
       "      <td>43.930065</td>\n",
       "      <td>2.973884</td>\n",
       "      <td>0.505808</td>\n",
       "    </tr>\n",
       "    <tr>\n",
       "      <th>std</th>\n",
       "      <td>3603.67604</td>\n",
       "      <td>15.341521</td>\n",
       "      <td>2.644623</td>\n",
       "      <td>0.499986</td>\n",
       "    </tr>\n",
       "    <tr>\n",
       "      <th>min</th>\n",
       "      <td>1001.00000</td>\n",
       "      <td>18.000000</td>\n",
       "      <td>0.000000</td>\n",
       "      <td>0.000000</td>\n",
       "    </tr>\n",
       "    <tr>\n",
       "      <th>25%</th>\n",
       "      <td>4121.50000</td>\n",
       "      <td>31.000000</td>\n",
       "      <td>1.000000</td>\n",
       "      <td>0.000000</td>\n",
       "    </tr>\n",
       "    <tr>\n",
       "      <th>50%</th>\n",
       "      <td>7242.00000</td>\n",
       "      <td>44.000000</td>\n",
       "      <td>2.000000</td>\n",
       "      <td>1.000000</td>\n",
       "    </tr>\n",
       "    <tr>\n",
       "      <th>75%</th>\n",
       "      <td>10362.50000</td>\n",
       "      <td>57.000000</td>\n",
       "      <td>4.000000</td>\n",
       "      <td>1.000000</td>\n",
       "    </tr>\n",
       "    <tr>\n",
       "      <th>max</th>\n",
       "      <td>13483.00000</td>\n",
       "      <td>70.000000</td>\n",
       "      <td>9.000000</td>\n",
       "      <td>1.000000</td>\n",
       "    </tr>\n",
       "  </tbody>\n",
       "</table>\n",
       "</div>"
      ],
      "text/plain": [
       "        CustomerID           Age           NPS    ChurnLabel\n",
       "count  12483.00000  12483.000000  12483.000000  12483.000000\n",
       "mean    7242.00000     43.930065      2.973884      0.505808\n",
       "std     3603.67604     15.341521      2.644623      0.499986\n",
       "min     1001.00000     18.000000      0.000000      0.000000\n",
       "25%     4121.50000     31.000000      1.000000      0.000000\n",
       "50%     7242.00000     44.000000      2.000000      1.000000\n",
       "75%    10362.50000     57.000000      4.000000      1.000000\n",
       "max    13483.00000     70.000000      9.000000      1.000000"
      ]
     },
     "execution_count": 192,
     "metadata": {},
     "output_type": "execute_result"
    }
   ],
   "source": [
    "df.describe()"
   ]
  },
  {
   "cell_type": "markdown",
   "id": "bb1c5299",
   "metadata": {},
   "source": [
    "## Exploratory Data Analysis ##"
   ]
  },
  {
   "cell_type": "code",
   "execution_count": 193,
   "id": "9ea5d4e1",
   "metadata": {},
   "outputs": [],
   "source": [
    "# Select the numerical columns\n",
    "df_numerical = df[['Age', 'NPS', 'ChurnLabel']]"
   ]
  },
  {
   "cell_type": "code",
   "execution_count": 194,
   "id": "ef611592",
   "metadata": {},
   "outputs": [
    {
     "data": {
      "text/html": [
       "<div>\n",
       "<style scoped>\n",
       "    .dataframe tbody tr th:only-of-type {\n",
       "        vertical-align: middle;\n",
       "    }\n",
       "\n",
       "    .dataframe tbody tr th {\n",
       "        vertical-align: top;\n",
       "    }\n",
       "\n",
       "    .dataframe thead th {\n",
       "        text-align: right;\n",
       "    }\n",
       "</style>\n",
       "<table border=\"1\" class=\"dataframe\">\n",
       "  <thead>\n",
       "    <tr style=\"text-align: right;\">\n",
       "      <th></th>\n",
       "      <th>Age</th>\n",
       "      <th>NPS</th>\n",
       "      <th>ChurnLabel</th>\n",
       "    </tr>\n",
       "  </thead>\n",
       "  <tbody>\n",
       "    <tr>\n",
       "      <th>Age</th>\n",
       "      <td>1.000000</td>\n",
       "      <td>0.000006</td>\n",
       "      <td>0.010273</td>\n",
       "    </tr>\n",
       "    <tr>\n",
       "      <th>NPS</th>\n",
       "      <td>0.000006</td>\n",
       "      <td>1.000000</td>\n",
       "      <td>-0.540703</td>\n",
       "    </tr>\n",
       "    <tr>\n",
       "      <th>ChurnLabel</th>\n",
       "      <td>0.010273</td>\n",
       "      <td>-0.540703</td>\n",
       "      <td>1.000000</td>\n",
       "    </tr>\n",
       "  </tbody>\n",
       "</table>\n",
       "</div>"
      ],
      "text/plain": [
       "                 Age       NPS  ChurnLabel\n",
       "Age         1.000000  0.000006    0.010273\n",
       "NPS         0.000006  1.000000   -0.540703\n",
       "ChurnLabel  0.010273 -0.540703    1.000000"
      ]
     },
     "execution_count": 194,
     "metadata": {},
     "output_type": "execute_result"
    }
   ],
   "source": [
    "corr = (df_numerical.corr())\n",
    "corr"
   ]
  },
  {
   "cell_type": "markdown",
   "id": "58ca8465",
   "metadata": {},
   "source": [
    "#### Correlation Heatmap of numerical values ####"
   ]
  },
  {
   "cell_type": "code",
   "execution_count": 221,
   "id": "3e7b195a",
   "metadata": {},
   "outputs": [
    {
     "data": {
      "image/png": "[encoded data removed]",
      "text/plain": [
       "<Figure size 500x300 with 2 Axes>"
      ]
     },
     "metadata": {},
     "output_type": "display_data"
    }
   ],
   "source": [
    "plt.figure(figsize=(5, 3))\n",
    "sns.heatmap(corr, annot=True, fmt=\".2f\", cmap='viridis', square=True, cbar=True)\n",
    "plt.title('Correlation Matrix')\n",
    "plt.show()"
   ]
  },
  {
   "cell_type": "markdown",
   "id": "0d5abbd6",
   "metadata": {},
   "source": [
    "**Exploring and visualizing Age Column**"
   ]
  },
  {
   "cell_type": "code",
   "execution_count": 196,
   "id": "93ae6e42",
   "metadata": {},
   "outputs": [
    {
     "data": {
      "text/plain": [
       "18"
      ]
     },
     "execution_count": 196,
     "metadata": {},
     "output_type": "execute_result"
    }
   ],
   "source": [
    "df['Age'].min()"
   ]
  },
  {
   "cell_type": "code",
   "execution_count": 197,
   "id": "a931701d",
   "metadata": {},
   "outputs": [
    {
     "data": {
      "text/plain": [
       "70"
      ]
     },
     "execution_count": 197,
     "metadata": {},
     "output_type": "execute_result"
    }
   ],
   "source": [
    "df['Age'].max()"
   ]
  },
  {
   "cell_type": "code",
   "execution_count": 198,
   "id": "ce1c67b8",
   "metadata": {},
   "outputs": [
    {
     "data": {
      "text/plain": [
       "43.93006488824802"
      ]
     },
     "execution_count": 198,
     "metadata": {},
     "output_type": "execute_result"
    }
   ],
   "source": [
    "df['Age'].mean()"
   ]
  },
  {
   "cell_type": "code",
   "execution_count": 199,
   "id": "b009be27",
   "metadata": {},
   "outputs": [
    {
     "data": {
      "text/plain": [
       "15.34152135256695"
      ]
     },
     "execution_count": 199,
     "metadata": {},
     "output_type": "execute_result"
    }
   ],
   "source": [
    "df['Age'].std()"
   ]
  },
  {
   "cell_type": "code",
   "execution_count": 200,
   "id": "fe983efe",
   "metadata": {},
   "outputs": [
    {
     "data": {
      "text/plain": [
       "<seaborn.axisgrid.FacetGrid at 0x1cb38b40c40>"
      ]
     },
     "execution_count": 200,
     "metadata": {},
     "output_type": "execute_result"
    },
    {
     "data": {
      "text/plain": [
       "<Figure size 500x300 with 0 Axes>"
      ]
     },
     "metadata": {},
     "output_type": "display_data"
    },
    {
     "data": {
      "image/png": "[encoded data removed]",
      "text/plain": [
       "<Figure size 500x500 with 1 Axes>"
      ]
     },
     "metadata": {},
     "output_type": "display_data"
    }
   ],
   "source": [
    "plt.figure(figsize=(5, 3))\n",
    "\n",
    "sns.displot(df['Age'],kde = True)"
   ]
  },
  {
   "cell_type": "markdown",
   "id": "4b267e94",
   "metadata": {},
   "source": [
    "****Exploring and visualizing NPS Column****"
   ]
  },
  {
   "cell_type": "code",
   "execution_count": 201,
   "id": "e8acd2ec",
   "metadata": {},
   "outputs": [
    {
     "name": "stdout",
     "output_type": "stream",
     "text": [
      "min     0.000000\n",
      "max     9.000000\n",
      "mean    2.973884\n",
      "std     2.644623\n",
      "Name: NPS, dtype: float64\n"
     ]
    }
   ],
   "source": [
    "# Calculate min, max, mean, and std for ChurnLabel\n",
    "churn_stats = df['NPS'].agg(['min', 'max', 'mean', 'std'])\n",
    "\n",
    "# Display the results\n",
    "print(churn_stats)"
   ]
  },
  {
   "cell_type": "code",
   "execution_count": 202,
   "id": "a63e64c9",
   "metadata": {},
   "outputs": [
    {
     "data": {
      "text/plain": [
       "<seaborn.axisgrid.FacetGrid at 0x1cb35fd8f70>"
      ]
     },
     "execution_count": 202,
     "metadata": {},
     "output_type": "execute_result"
    },
    {
     "data": {
      "text/plain": [
       "<Figure size 500x300 with 0 Axes>"
      ]
     },
     "metadata": {},
     "output_type": "display_data"
    },
    {
     "data": {
      "image/png": "[encoded data removed]",
      "text/plain": [
       "<Figure size 500x500 with 1 Axes>"
      ]
     },
     "metadata": {},
     "output_type": "display_data"
    }
   ],
   "source": [
    "plt.figure(figsize=(5, 3))\n",
    "\n",
    "sns.displot(df['NPS'],kde = True)"
   ]
  },
  {
   "cell_type": "markdown",
   "id": "03a23c5a",
   "metadata": {},
   "source": [
    "**Exploring and visualizing ChurnLabel Column**"
   ]
  },
  {
   "cell_type": "code",
   "execution_count": 203,
   "id": "6f9633b3",
   "metadata": {},
   "outputs": [
    {
     "name": "stdout",
     "output_type": "stream",
     "text": [
      "min     0.000000\n",
      "max     1.000000\n",
      "mean    0.505808\n",
      "std     0.499986\n",
      "Name: ChurnLabel, dtype: float64\n"
     ]
    }
   ],
   "source": [
    "# Calculate min, max, mean, and std for ChurnLabel\n",
    "churn_stats = df['ChurnLabel'].agg(['min', 'max', 'mean', 'std'])\n",
    "\n",
    "# Display the results\n",
    "print(churn_stats)"
   ]
  },
  {
   "cell_type": "code",
   "execution_count": 204,
   "id": "6870ca96",
   "metadata": {},
   "outputs": [
    {
     "data": {
      "text/plain": [
       "<seaborn.axisgrid.FacetGrid at 0x1cb3b9c3be0>"
      ]
     },
     "execution_count": 204,
     "metadata": {},
     "output_type": "execute_result"
    },
    {
     "data": {
      "text/plain": [
       "<Figure size 500x300 with 0 Axes>"
      ]
     },
     "metadata": {},
     "output_type": "display_data"
    },
    {
     "data": {
      "image/png": "[encoded data removed]",
      "text/plain": [
       "<Figure size 500x500 with 1 Axes>"
      ]
     },
     "metadata": {},
     "output_type": "display_data"
    }
   ],
   "source": [
    "plt.figure(figsize=(5, 3))\n",
    "\n",
    "sns.displot(df['ChurnLabel'],kde = True)"
   ]
  },
  {
   "cell_type": "markdown",
   "id": "1801bd84",
   "metadata": {},
   "source": [
    "The dataset has a nearly equal number of customers who have churned (ChurnLabel=1) and those who haven't churned (ChurnLabel=0)."
   ]
  },
  {
   "cell_type": "code",
   "execution_count": 205,
   "id": "eb72d652",
   "metadata": {},
   "outputs": [
    {
     "data": {
      "text/html": [
       "<div>\n",
       "<style scoped>\n",
       "    .dataframe tbody tr th:only-of-type {\n",
       "        vertical-align: middle;\n",
       "    }\n",
       "\n",
       "    .dataframe tbody tr th {\n",
       "        vertical-align: top;\n",
       "    }\n",
       "\n",
       "    .dataframe thead th {\n",
       "        text-align: right;\n",
       "    }\n",
       "</style>\n",
       "<table border=\"1\" class=\"dataframe\">\n",
       "  <thead>\n",
       "    <tr style=\"text-align: right;\">\n",
       "      <th></th>\n",
       "      <th>Name</th>\n",
       "      <th>Gender</th>\n",
       "      <th>Location</th>\n",
       "      <th>Email</th>\n",
       "      <th>Address</th>\n",
       "      <th>Segment</th>\n",
       "      <th>PurchaseHistory</th>\n",
       "      <th>SubscriptionDetails</th>\n",
       "      <th>ServiceInteractions</th>\n",
       "      <th>PaymentHistory</th>\n",
       "      <th>WebsiteUsage</th>\n",
       "      <th>ClickstreamData</th>\n",
       "      <th>EngagementMetrics</th>\n",
       "      <th>Feedback</th>\n",
       "      <th>MarketingCommunication</th>\n",
       "    </tr>\n",
       "  </thead>\n",
       "  <tbody>\n",
       "    <tr>\n",
       "      <th>0</th>\n",
       "      <td>Mark Barrett</td>\n",
       "      <td>Male</td>\n",
       "      <td>Andrewfort</td>\n",
       "      <td>allison74@example.net</td>\n",
       "      <td>61234 Shelley Heights Suite 467\\nCohentown, GU...</td>\n",
       "      <td>Segment B</td>\n",
       "      <td>[{'Product': 'Frozen Cocktail Mixes', 'Frequen...</td>\n",
       "      <td>{'Plan': 'Express', 'Start_Date': '2020-06-08'...</td>\n",
       "      <td>[{'Type': 'Call', 'Date': '2019-09-26'}, {'Typ...</td>\n",
       "      <td>[{'Method': 'Credit Card', 'Late_Payments': 5}...</td>\n",
       "      <td>{'PageViews': 49, 'TimeSpent(minutes)': 15}</td>\n",
       "      <td>[{'Action': 'Add to Cart', 'Page': 'register',...</td>\n",
       "      <td>{'Logins': 19, 'Frequency': 'Weekly'}</td>\n",
       "      <td>{'Rating': 1, 'Comment': 'I move baby go small...</td>\n",
       "      <td>[{'Email_Sent': '2019-10-17', 'Email_Opened': ...</td>\n",
       "    </tr>\n",
       "  </tbody>\n",
       "</table>\n",
       "</div>"
      ],
      "text/plain": [
       "           Name Gender    Location                  Email  \\\n",
       "0  Mark Barrett   Male  Andrewfort  allison74@example.net   \n",
       "\n",
       "                                             Address    Segment  \\\n",
       "0  61234 Shelley Heights Suite 467\\nCohentown, GU...  Segment B   \n",
       "\n",
       "                                     PurchaseHistory  \\\n",
       "0  [{'Product': 'Frozen Cocktail Mixes', 'Frequen...   \n",
       "\n",
       "                                 SubscriptionDetails  \\\n",
       "0  {'Plan': 'Express', 'Start_Date': '2020-06-08'...   \n",
       "\n",
       "                                 ServiceInteractions  \\\n",
       "0  [{'Type': 'Call', 'Date': '2019-09-26'}, {'Typ...   \n",
       "\n",
       "                                      PaymentHistory  \\\n",
       "0  [{'Method': 'Credit Card', 'Late_Payments': 5}...   \n",
       "\n",
       "                                  WebsiteUsage  \\\n",
       "0  {'PageViews': 49, 'TimeSpent(minutes)': 15}   \n",
       "\n",
       "                                     ClickstreamData  \\\n",
       "0  [{'Action': 'Add to Cart', 'Page': 'register',...   \n",
       "\n",
       "                       EngagementMetrics  \\\n",
       "0  {'Logins': 19, 'Frequency': 'Weekly'}   \n",
       "\n",
       "                                            Feedback  \\\n",
       "0  {'Rating': 1, 'Comment': 'I move baby go small...   \n",
       "\n",
       "                              MarketingCommunication  \n",
       "0  [{'Email_Sent': '2019-10-17', 'Email_Opened': ...  "
      ]
     },
     "execution_count": 205,
     "metadata": {},
     "output_type": "execute_result"
    }
   ],
   "source": [
    "df_categorical = df[['Name','Gender','Location','Email','Address','Segment','PurchaseHistory','SubscriptionDetails','ServiceInteractions','PaymentHistory','WebsiteUsage','ClickstreamData','EngagementMetrics','Feedback','MarketingCommunication']]\n",
    "df_categorical.head(1)"
   ]
  },
  {
   "cell_type": "markdown",
   "id": "4b93fa19",
   "metadata": {},
   "source": [
    "**Exploring and visualizing Gender Column**"
   ]
  },
  {
   "cell_type": "code",
   "execution_count": 206,
   "id": "cdffd59e",
   "metadata": {},
   "outputs": [
    {
     "name": "stdout",
     "output_type": "stream",
     "text": [
      "Unique Genders: ['Male', 'Female']\n",
      "Counts: [6269, 6214]\n"
     ]
    }
   ],
   "source": [
    "# Get unique genders and their counts\n",
    "gender_counts = df['Gender'].value_counts()\n",
    "\n",
    "# Display the results\n",
    "unique_genders = gender_counts.index.tolist()\n",
    "count_genders = gender_counts.values.tolist()\n",
    "\n",
    "# Print unique genders and their counts\n",
    "print(\"Unique Genders:\", unique_genders)\n",
    "print(\"Counts:\", count_genders)"
   ]
  },
  {
   "cell_type": "code",
   "execution_count": 207,
   "id": "90b7676b",
   "metadata": {},
   "outputs": [
    {
     "data": {
      "image/png": "[encoded data removed]",
      "text/plain": [
       "<Figure size 400x400 with 1 Axes>"
      ]
     },
     "metadata": {},
     "output_type": "display_data"
    }
   ],
   "source": [
    "# Count the occurrences of each gender\n",
    "gender_counts = df['Gender'].value_counts()\n",
    "\n",
    "\n",
    "# Plotting a pie chart\n",
    "\n",
    "plt.figure(figsize=(4, 4))\n",
    "gender_counts.plot(kind='pie', autopct='%1.1f%%', startangle=90, colors=['lightblue', 'salmon'])\n",
    "plt.title('Gender Distribution')\n",
    "plt.ylabel('')  # Hide the y-label\n",
    "plt.show()"
   ]
  },
  {
   "cell_type": "markdown",
   "id": "87e3ac64",
   "metadata": {},
   "source": [
    "The number of male and female customers is almost equal."
   ]
  },
  {
   "cell_type": "markdown",
   "id": "bdff9ae9",
   "metadata": {},
   "source": [
    "**Exploring and visualizing Segment Column**"
   ]
  },
  {
   "cell_type": "code",
   "execution_count": 208,
   "id": "fbc079de",
   "metadata": {},
   "outputs": [
    {
     "name": "stdout",
     "output_type": "stream",
     "text": [
      "Unique Segment: ['Segment C', 'Segment A', 'Segment B']\n",
      "Counts: [4199, 4157, 4127]\n"
     ]
    }
   ],
   "source": [
    "# Get unique Segments and their counts\n",
    "Segment_counts = df['Segment'].value_counts()\n",
    "\n",
    "# Display the results\n",
    "unique_Segments = Segment_counts.index.tolist()\n",
    "count_Segments = Segment_counts.values.tolist()\n",
    "\n",
    "# Print unique Segment and their counts\n",
    "print(\"Unique Segment:\", unique_Segments)\n",
    "print(\"Counts:\", count_Segments)"
   ]
  },
  {
   "cell_type": "code",
   "execution_count": 209,
   "id": "579b35e1",
   "metadata": {},
   "outputs": [
    {
     "data": {
      "image/png": "[encoded data removed]",
      "text/plain": [
       "<Figure size 400x400 with 1 Axes>"
      ]
     },
     "metadata": {},
     "output_type": "display_data"
    }
   ],
   "source": [
    "# Count the occurrences of each Segment\n",
    "gender_counts = df['Segment'].value_counts()\n",
    "\n",
    "\n",
    "# Plotting a pie chart\n",
    "\n",
    "plt.figure(figsize=(4, 4))\n",
    "gender_counts.plot(kind='pie', autopct='%1.1f%%', startangle=90, colors=['lightblue', 'salmon'])\n",
    "plt.title('Segment Distribution')\n",
    "plt.ylabel('')  # Hide the y-label\n",
    "plt.show()"
   ]
  },
  {
   "cell_type": "code",
   "execution_count": 210,
   "id": "d9179998",
   "metadata": {},
   "outputs": [
    {
     "data": {
      "text/plain": [
       "9255"
      ]
     },
     "execution_count": 210,
     "metadata": {},
     "output_type": "execute_result"
    }
   ],
   "source": [
    "df['Location'].nunique()"
   ]
  },
  {
   "cell_type": "code",
   "execution_count": 211,
   "id": "74effb33",
   "metadata": {},
   "outputs": [
    {
     "data": {
      "image/png": "[encoded data removed]",
      "text/plain": [
       "<Figure size 1000x600 with 1 Axes>"
      ]
     },
     "metadata": {},
     "output_type": "display_data"
    }
   ],
   "source": [
    "# The top 10 locations\n",
    "\n",
    "top_n = 10  \n",
    "top_locations = df['Location'].value_counts().head(top_n)\n",
    "\n",
    "# Plotting\n",
    "plt.figure(figsize=(10, 6))\n",
    "top_locations.plot(kind='bar', color='skyblue')\n",
    "plt.title(f'Top {top_n} Locations')\n",
    "plt.xlabel('Location')\n",
    "plt.ylabel('Frequency')\n",
    "plt.xticks(rotation = 90)\n",
    "plt.show()"
   ]
  },
  {
   "cell_type": "markdown",
   "id": "e9cdecf2",
   "metadata": {},
   "source": [
    "## Data Cleaning ##"
   ]
  },
  {
   "cell_type": "code",
   "execution_count": 212,
   "id": "354058ea",
   "metadata": {},
   "outputs": [
    {
     "data": {
      "text/plain": [
       "CustomerID                0\n",
       "Name                      0\n",
       "Age                       0\n",
       "Gender                    0\n",
       "Location                  0\n",
       "Email                     0\n",
       "Phone                     0\n",
       "Address                   0\n",
       "Segment                   0\n",
       "PurchaseHistory           0\n",
       "SubscriptionDetails       0\n",
       "ServiceInteractions       0\n",
       "PaymentHistory            0\n",
       "WebsiteUsage              0\n",
       "ClickstreamData           0\n",
       "EngagementMetrics         0\n",
       "Feedback                  0\n",
       "MarketingCommunication    0\n",
       "NPS                       0\n",
       "ChurnLabel                0\n",
       "Timestamp                 0\n",
       "dtype: int64"
      ]
     },
     "execution_count": 212,
     "metadata": {},
     "output_type": "execute_result"
    }
   ],
   "source": [
    "# Check for Missing values \n",
    "\n",
    "df.isnull().sum()"
   ]
  },
  {
   "cell_type": "code",
   "execution_count": 213,
   "id": "c445cee5",
   "metadata": {},
   "outputs": [
    {
     "data": {
      "text/plain": [
       "False"
      ]
     },
     "execution_count": 213,
     "metadata": {},
     "output_type": "execute_result"
    }
   ],
   "source": [
    "# Check for Duplicates\n",
    "\n",
    "df.duplicated().any()"
   ]
  },
  {
   "cell_type": "markdown",
   "id": "ad48be06",
   "metadata": {},
   "source": [
    "**Convert TimeStamp to DateTime Format and Extract Month & Day**"
   ]
  },
  {
   "cell_type": "code",
   "execution_count": 214,
   "id": "0e6e401a",
   "metadata": {},
   "outputs": [],
   "source": [
    "df['Timestamp'] = pd.to_datetime(df['Timestamp'], format = '%Y-%m-%d %H:%M:%S')"
   ]
  },
  {
   "cell_type": "code",
   "execution_count": 215,
   "id": "9e1dc31a",
   "metadata": {},
   "outputs": [],
   "source": [
    "# Extract month-year\n",
    "\n",
    "df['Month-Year'] = df['Timestamp'].dt.to_period('M')"
   ]
  },
  {
   "cell_type": "code",
   "execution_count": 216,
   "id": "c3a3a60a",
   "metadata": {},
   "outputs": [
    {
     "data": {
      "text/html": [
       "<div>\n",
       "<style scoped>\n",
       "    .dataframe tbody tr th:only-of-type {\n",
       "        vertical-align: middle;\n",
       "    }\n",
       "\n",
       "    .dataframe tbody tr th {\n",
       "        vertical-align: top;\n",
       "    }\n",
       "\n",
       "    .dataframe thead th {\n",
       "        text-align: right;\n",
       "    }\n",
       "</style>\n",
       "<table border=\"1\" class=\"dataframe\">\n",
       "  <thead>\n",
       "    <tr style=\"text-align: right;\">\n",
       "      <th></th>\n",
       "      <th>total_customers</th>\n",
       "      <th>churned_customers</th>\n",
       "      <th>churn_rate</th>\n",
       "    </tr>\n",
       "    <tr>\n",
       "      <th>Month-Year</th>\n",
       "      <th></th>\n",
       "      <th></th>\n",
       "      <th></th>\n",
       "    </tr>\n",
       "  </thead>\n",
       "  <tbody>\n",
       "    <tr>\n",
       "      <th>2019-01</th>\n",
       "      <td>272</td>\n",
       "      <td>132</td>\n",
       "      <td>0.485294</td>\n",
       "    </tr>\n",
       "    <tr>\n",
       "      <th>2019-02</th>\n",
       "      <td>263</td>\n",
       "      <td>139</td>\n",
       "      <td>0.528517</td>\n",
       "    </tr>\n",
       "    <tr>\n",
       "      <th>2019-03</th>\n",
       "      <td>251</td>\n",
       "      <td>139</td>\n",
       "      <td>0.553785</td>\n",
       "    </tr>\n",
       "    <tr>\n",
       "      <th>2019-04</th>\n",
       "      <td>263</td>\n",
       "      <td>130</td>\n",
       "      <td>0.494297</td>\n",
       "    </tr>\n",
       "    <tr>\n",
       "      <th>2019-05</th>\n",
       "      <td>252</td>\n",
       "      <td>124</td>\n",
       "      <td>0.492063</td>\n",
       "    </tr>\n",
       "  </tbody>\n",
       "</table>\n",
       "</div>"
      ],
      "text/plain": [
       "            total_customers  churned_customers  churn_rate\n",
       "Month-Year                                                \n",
       "2019-01                 272                132    0.485294\n",
       "2019-02                 263                139    0.528517\n",
       "2019-03                 251                139    0.553785\n",
       "2019-04                 263                130    0.494297\n",
       "2019-05                 252                124    0.492063"
      ]
     },
     "execution_count": 216,
     "metadata": {},
     "output_type": "execute_result"
    }
   ],
   "source": [
    "# Group by Month-Year and calculate churn rates\n",
    "\n",
    "churn_rates = df.groupby('Month-Year').agg(total_customers=('ChurnLabel', 'count'),churned_customers=('ChurnLabel', 'sum'))\n",
    "\n",
    "churn_rates['churn_rate'] = churn_rates['churned_customers'] / churn_rates['total_customers']\n",
    "\n",
    "# Display the churn rates\n",
    "churn_rates.head(5)"
   ]
  },
  {
   "cell_type": "markdown",
   "id": "f04d78b9",
   "metadata": {},
   "source": [
    "**Visualizing Churn rate over Time**"
   ]
  },
  {
   "cell_type": "code",
   "execution_count": 217,
   "id": "46a3b9d9",
   "metadata": {},
   "outputs": [
    {
     "data": {
      "image/png": "[encoded data removed]",
      "text/plain": [
       "<Figure size 1000x600 with 1 Axes>"
      ]
     },
     "metadata": {},
     "output_type": "display_data"
    }
   ],
   "source": [
    "# Plotting churn rates over time\n",
    "\n",
    "plt.figure(figsize=(10, 6))\n",
    "churn_rates['churn_rate'].plot(marker='o')\n",
    "plt.title('Churn Rates Over Time')\n",
    "plt.xlabel('Month-Year')\n",
    "plt.ylabel('Churn Rate')\n",
    "plt.xticks(rotation=45)\n",
    "plt.grid()\n",
    "plt.tight_layout()\n",
    "plt.show()"
   ]
  },
  {
   "cell_type": "markdown",
   "id": "e1f71a5a",
   "metadata": {},
   "source": [
    "**Extracting ratings from the Feedback column and adding a new column for them.**"
   ]
  },
  {
   "cell_type": "code",
   "execution_count": 218,
   "id": "7f53b8eb",
   "metadata": {},
   "outputs": [],
   "source": [
    "df['FeedbackRating'] = df['Feedback'].apply(lambda x: eval(x)['Rating'])"
   ]
  },
  {
   "cell_type": "markdown",
   "id": "c1241c15",
   "metadata": {},
   "source": [
    "**Establishing the connection between Feedback Ratings and Churn**"
   ]
  },
  {
   "cell_type": "code",
   "execution_count": 223,
   "id": "b2dc005c",
   "metadata": {},
   "outputs": [
    {
     "data": {
      "image/png": "[encoded data removed]",
      "text/plain": [
       "<Figure size 1000x600 with 1 Axes>"
      ]
     },
     "metadata": {},
     "output_type": "display_data"
    }
   ],
   "source": [
    "plt.figure(figsize=(10, 6))\n",
    "sns.countplot(x='FeedbackRating', hue='ChurnLabel', data=df, palette=\"coolwarm\")\n",
    "plt.title('Establishing the connection between Feedback Ratings and Churn')\n",
    "plt.xlabel('Rating')\n",
    "plt.ylabel('Count')\n",
    "plt.legend(title='ChurnLabel', loc='upper right', labels=['No Churn', 'Churn'])\n",
    "plt.show()"
   ]
  },
  {
   "cell_type": "markdown",
   "id": "002b0315",
   "metadata": {},
   "source": [
    "## Feature Engineering ##"
   ]
  },
  {
   "cell_type": "code",
   "execution_count": null,
   "id": "b8d74d1f",
   "metadata": {},
   "outputs": [],
   "source": []
  }
 ],
 "metadata": {
  "kernelspec": {
   "display_name": "Python 3 (ipykernel)",
   "language": "python",
   "name": "python3"
  },
  "language_info": {
   "codemirror_mode": {
    "name": "ipython",
    "version": 3
   },
   "file_extension": ".py",
   "mimetype": "text/x-python",
   "name": "python",
   "nbconvert_exporter": "python",
   "pygments_lexer": "ipython3",
   "version": "3.9.13"
  }
 },
 "nbformat": 4,
 "nbformat_minor": 5
}
